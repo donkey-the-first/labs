{
 "cells": [
  {
   "cell_type": "markdown",
   "metadata": {},
   "source": [
    "Проведіть експерименти з моделями бібліотеки Hugging Face (раніше - Hugging Face Transformers, https://huggingface.co/) за допомогою (наприклад) Pipeline модуля"
   ]
  },
  {
   "cell_type": "code",
   "execution_count": 4,
   "metadata": {},
   "outputs": [],
   "source": [
    "from transformers import pipeline\n",
    "import warnings\n",
    "\n",
    "warnings.filterwarnings('ignore')\n",
    "\n",
    "# 1. Аналіз тональності (Sentiment Analysis)\n",
    "\n",
    "def sentiment_analysis_example():\n",
    "    print(\"Аналіз тональності тексту:\")\n",
    "    # Використовуємо багатомовну модель\n",
    "    sentiment_pipeline = pipeline(\"sentiment-analysis\", model=\"nlptown/bert-base-multilingual-uncased-sentiment\")\n",
    "    \n",
    "    text = \"Це чудовий день для навчання!\"\n",
    "    result = sentiment_pipeline(text)\n",
    "    print(f\"Текст: {text}\")\n",
    "    print(\"Результат:\", result)\n",
    "    print(\"\\n\")"
   ]
  },
  {
   "cell_type": "code",
   "execution_count": 5,
   "metadata": {},
   "outputs": [],
   "source": [
    "# 2. Переклад тексту (Translation)\n",
    "\n",
    "def translation_example():\n",
    "    print(\"Переклад тексту з української на англійську:\")\n",
    "    # Модель перекладу з української на англійську\n",
    "    translation_pipeline = pipeline(\"translation_uk_to_en\", model=\"Helsinki-NLP/opus-mt-uk-en\")\n",
    "    \n",
    "    text = \"Машинне навчання — це новітній напрям науки, який змінює світ.\"\n",
    "    result = translation_pipeline(text)\n",
    "    print(f\"Текст: {text}\")\n",
    "    print(\"Переклад:\", result[0]['translation_text'])\n",
    "    print(\"\\n\")"
   ]
  },
  {
   "cell_type": "code",
   "execution_count": 6,
   "metadata": {},
   "outputs": [
    {
     "name": "stdout",
     "output_type": "stream",
     "text": [
      "Експерименти з українськими моделями Hugging Face:\n",
      "\n",
      "Аналіз тональності тексту:\n"
     ]
    },
    {
     "name": "stderr",
     "output_type": "stream",
     "text": [
      "huggingface/tokenizers: The current process just got forked, after parallelism has already been used. Disabling parallelism to avoid deadlocks...\n",
      "To disable this warning, you can either:\n",
      "\t- Avoid using `tokenizers` before the fork if possible\n",
      "\t- Explicitly set the environment variable TOKENIZERS_PARALLELISM=(true | false)\n",
      "Device set to use cpu\n"
     ]
    },
    {
     "name": "stdout",
     "output_type": "stream",
     "text": [
      "Текст: Це чудовий день для навчання!\n",
      "Результат: [{'label': '5 stars', 'score': 0.6053218841552734}]\n",
      "\n",
      "\n",
      "Переклад тексту з української на англійську:\n"
     ]
    },
    {
     "name": "stderr",
     "output_type": "stream",
     "text": [
      "huggingface/tokenizers: The current process just got forked, after parallelism has already been used. Disabling parallelism to avoid deadlocks...\n",
      "To disable this warning, you can either:\n",
      "\t- Avoid using `tokenizers` before the fork if possible\n",
      "\t- Explicitly set the environment variable TOKENIZERS_PARALLELISM=(true | false)\n",
      "Device set to use cpu\n"
     ]
    },
    {
     "name": "stdout",
     "output_type": "stream",
     "text": [
      "Текст: Машинне навчання — це новітній напрям науки, який змінює світ.\n",
      "Переклад: Machine learning is the new trend of science that is changing the world.\n",
      "\n",
      "\n",
      "Генерація тексту:\n"
     ]
    },
    {
     "name": "stderr",
     "output_type": "stream",
     "text": [
      "Device set to use cpu\n",
      "Truncation was not explicitly activated but `max_length` is provided a specific value, please use `truncation=True` to explicitly truncate examples to max length. Defaulting to 'longest_first' truncation strategy. If you encode pairs of sequences (GLUE-style) with the tokenizer you can select this strategy more precisely by providing a specific strategy to `truncation`.\n",
      "Setting `pad_token_id` to `eos_token_id`:50256 for open-end generation.\n"
     ]
    },
    {
     "name": "stdout",
     "output_type": "stream",
     "text": [
      "Початковий текст: Machine learning\n",
      "Згенерований текст: Machine learning is about how to find out what makes people's lives better by examining your personality when it comes to what we want\n",
      "\n",
      "\n"
     ]
    }
   ],
   "source": [
    "# 3. Генерація тексту (Text Generation)\n",
    "\n",
    "def text_generation_example():\n",
    "    print(\"Генерація тексту:\")\n",
    "    generator_pipeline = pipeline(\"text-generation\", model=\"gpt2\")\n",
    "    \n",
    "    text = \"Machine learning\"\n",
    "    result = generator_pipeline(text, max_length=25, num_return_sequences=1)\n",
    "    print(f\"Початковий текст: {text}\")\n",
    "    print(\"Згенерований текст:\", result[0]['generated_text'])\n",
    "    print(\"\\n\")\n",
    "\n",
    "\n",
    "if __name__ == \"__main__\":\n",
    "    print(\"Експерименти з українськими моделями Hugging Face:\\n\")\n",
    "    \n",
    "    sentiment_analysis_example()\n",
    "    translation_example()\n",
    "    text_generation_example()"
   ]
  }
 ],
 "metadata": {
  "kernelspec": {
   "display_name": ".venv",
   "language": "python",
   "name": "python3"
  },
  "language_info": {
   "codemirror_mode": {
    "name": "ipython",
    "version": 3
   },
   "file_extension": ".py",
   "mimetype": "text/x-python",
   "name": "python",
   "nbconvert_exporter": "python",
   "pygments_lexer": "ipython3",
   "version": "3.12.3"
  }
 },
 "nbformat": 4,
 "nbformat_minor": 2
}
