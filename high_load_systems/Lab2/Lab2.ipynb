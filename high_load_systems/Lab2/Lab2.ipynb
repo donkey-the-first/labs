{
 "cells": [
  {
   "cell_type": "markdown",
   "metadata": {},
   "source": [
    "**Реалізація каунтера з використанням PostgreSQL**"
   ]
  },
  {
   "cell_type": "markdown",
   "metadata": {},
   "source": [
    "Для створення бази даних використовується наступний docker compose файл:  \n",
    "  ```\n",
    "services:  \n",
    "  db:  \n",
    "    image: postgres:14.1-alpine  \n",
    "    container_name: postgres_db  \n",
    "    environment:  \n",
    "      - POSTGRES_USER=${USERNAME}  \n",
    "      - POSTGRES_PASSWORD=${PASSWORD}  \n",
    "      - POSTGRES_DB=${DATABASENAME}  \n",
    "    ports:  \n",
    "      - \"5432:5432\"  \n",
    "  ```\n",
    "Щоб викоритовувати змінні середовища потрібно створити .env файл в якому зазначити  USERNAME, PASSWORD, DATABASENAME.  \n",
    "Для виконання завдання потрібно створити відповідну таблицю. Це можна зробити виконавши наступні кроки:  \n",
    "  ```\n",
    "psql -h localhost -p 5432 -d counter  \n",
    "  \n",
    "CREATE TABLE user_counter (  \n",
    "    user_id INTEGER PRIMARY KEY,  \n",
    "    counter INTEGER,  \n",
    "    version INTEGER  \n",
    ");  \n",
    "  \n",
    "INSERT INTO user_counter (user_id, counter, version) VALUES (1, 0, 0);  \n",
    "INSERT INTO user_counter (user_id, counter, version) VALUES (2, 0, 0);  \n",
    "INSERT INTO user_counter (user_id, counter, version) VALUES (3, 0, 0);  \n",
    "INSERT INTO user_counter (user_id, counter, version) VALUES (4, 0, 0);  \n",
    "```\n",
    "\n"
   ]
  },
  {
   "cell_type": "markdown",
   "metadata": {},
   "source": [
    "Імпорт необхідних бібліотек:"
   ]
  },
  {
   "cell_type": "code",
   "execution_count": 13,
   "metadata": {},
   "outputs": [
    {
     "data": {
      "text/plain": [
       "True"
      ]
     },
     "execution_count": 13,
     "metadata": {},
     "output_type": "execute_result"
    }
   ],
   "source": [
    "import threading\n",
    "import psycopg2\n",
    "import time\n",
    "from os import getenv\n",
    "from dotenv import load_dotenv, dotenv_values \n",
    "load_dotenv(\"./.env\")"
   ]
  },
  {
   "cell_type": "markdown",
   "metadata": {},
   "source": [
    "Конфігурація для підключення до бази даних"
   ]
  },
  {
   "cell_type": "code",
   "execution_count": 14,
   "metadata": {},
   "outputs": [],
   "source": [
    "db_config = {\n",
    "    'dbname': getenv(\"DATABASENAME\"),\n",
    "    'user': getenv(\"USERNAME\"),\n",
    "    'password': getenv(\"PASSWORD\"),\n",
    "    'host': 'localhost',\n",
    "    'port': 5432\n",
    "}\n",
    "thread_count = 10\n",
    "iter_count = 10000"
   ]
  },
  {
   "cell_type": "markdown",
   "metadata": {},
   "source": [
    "1. Lost-update (реалізація що втрачатиме значення)"
   ]
  },
  {
   "cell_type": "code",
   "execution_count": 15,
   "metadata": {},
   "outputs": [
    {
     "name": "stdout",
     "output_type": "stream",
     "text": [
      "Загальний час виконання: 471.65 секунд\n",
      "Кінцеве значення лічильника: 23598 (Очікувалось: 100000)\n"
     ]
    }
   ],
   "source": [
    "def increment_counter(iter_count):\n",
    "    conn = psycopg2.connect(**db_config)\n",
    "    cursor = conn.cursor()\n",
    "    for _ in range(iter_count):\n",
    "        cursor.execute(\"SELECT counter FROM user_counter WHERE user_id = 1\")\n",
    "        counter = cursor.fetchone()[0]\n",
    "        counter += 1\n",
    "        cursor.execute(\"UPDATE user_counter SET counter = %s WHERE user_id = %s\", (counter, 1))\n",
    "        conn.commit()\n",
    "    cursor.close()\n",
    "    conn.close()\n",
    "\n",
    "threads = []\n",
    "start_time = time.time()\n",
    "\n",
    "for _ in range(thread_count):\n",
    "    thread = threading.Thread(target=increment_counter, args=[iter_count])\n",
    "    threads.append(thread)\n",
    "    thread.start()\n",
    "\n",
    "for thread in threads:\n",
    "    thread.join()\n",
    "\n",
    "total_time = time.time() - start_time\n",
    "print(f\"Загальний час виконання: {total_time:.2f} секунд\")\n",
    "\n",
    "conn = psycopg2.connect(**db_config)\n",
    "cursor = conn.cursor()\n",
    "cursor.execute(\"SELECT counter FROM user_counter WHERE user_id = 1\")\n",
    "final_counter = cursor.fetchone()[0]\n",
    "print(f\"Кінцеве значення лічильника: {final_counter} (Очікувалось: {thread_count * iter_count})\")\n",
    "cursor.close()\n",
    "conn.close()"
   ]
  },
  {
   "cell_type": "markdown",
   "metadata": {},
   "source": [
    "2. In-place update"
   ]
  },
  {
   "cell_type": "code",
   "execution_count": 16,
   "metadata": {},
   "outputs": [
    {
     "name": "stdout",
     "output_type": "stream",
     "text": [
      "Загальний час виконання: 230.07 секунд\n",
      "Кінцеве значення лічильника: 100000 (Очікувалось: 100000)\n"
     ]
    }
   ],
   "source": [
    "def in_place_update(iter_count):\n",
    "    conn = psycopg2.connect(**db_config)\n",
    "    cursor = conn.cursor()\n",
    "    for _ in range(iter_count):\n",
    "        cursor.execute(\"UPDATE user_counter SET counter = counter + 1 WHERE user_id = %s\", (2,))\n",
    "        conn.commit()\n",
    "    cursor.close()\n",
    "    conn.close()\n",
    "\n",
    "threads = []\n",
    "start_time = time.time()\n",
    "\n",
    "for _ in range(thread_count):\n",
    "    thread = threading.Thread(target=in_place_update, args=[iter_count])\n",
    "    threads.append(thread)\n",
    "    thread.start()\n",
    "\n",
    "for thread in threads:\n",
    "    thread.join()\n",
    "\n",
    "total_time = time.time() - start_time\n",
    "print(f\"Загальний час виконання: {total_time:.2f} секунд\")\n",
    "\n",
    "conn = psycopg2.connect(**db_config)\n",
    "cursor = conn.cursor()\n",
    "cursor.execute(\"SELECT counter FROM user_counter WHERE user_id = 2\")\n",
    "final_counter = cursor.fetchone()[0]\n",
    "print(f\"Кінцеве значення лічильника: {final_counter} (Очікувалось: {thread_count * iter_count})\")\n",
    "cursor.close()\n",
    "conn.close()"
   ]
  },
  {
   "cell_type": "markdown",
   "metadata": {},
   "source": [
    "3. Row-level locking"
   ]
  },
  {
   "cell_type": "code",
   "execution_count": 17,
   "metadata": {},
   "outputs": [
    {
     "name": "stdout",
     "output_type": "stream",
     "text": [
      "Загальний час виконання: 356.26 секунд\n",
      "Кінцеве значення лічильника: 100000 (Очікувалось: 100000)\n"
     ]
    }
   ],
   "source": [
    "def row_level_locking(iter_count):\n",
    "    conn = psycopg2.connect(**db_config)\n",
    "    cursor = conn.cursor()\n",
    "    for _ in range(iter_count):\n",
    "        conn.autocommit = False\n",
    "        try:\n",
    "            cursor.execute(\"SELECT counter FROM user_counter WHERE user_id = 3 FOR UPDATE\")\n",
    "            counter = cursor.fetchone()[0]\n",
    "            counter += 1\n",
    "            cursor.execute(\"UPDATE user_counter SET counter = %s WHERE user_id = %s\", (counter, 3))\n",
    "            conn.commit()\n",
    "        except Exception as e:\n",
    "            conn.rollback()\n",
    "            print(f\"Error: {e}\")\n",
    "    cursor.close()\n",
    "    conn.close()\n",
    "\n",
    "threads = []\n",
    "start_time = time.time()\n",
    "\n",
    "for _ in range(10):\n",
    "    thread = threading.Thread(target=row_level_locking, args=[iter_count])\n",
    "    threads.append(thread)\n",
    "    thread.start()\n",
    "\n",
    "for thread in threads:\n",
    "    thread.join()\n",
    "\n",
    "total_time = time.time() - start_time\n",
    "print(f\"Загальний час виконання: {total_time:.2f} секунд\")\n",
    "\n",
    "conn = psycopg2.connect(**db_config)\n",
    "cursor = conn.cursor()\n",
    "cursor.execute(\"SELECT counter FROM user_counter WHERE user_id = 3\")\n",
    "final_counter = cursor.fetchone()[0]\n",
    "print(f\"Кінцеве значення лічильника: {final_counter} (Очікувалось: {thread_count * iter_count})\")\n",
    "cursor.close()\n",
    "conn.close()"
   ]
  },
  {
   "cell_type": "markdown",
   "metadata": {},
   "source": [
    "4. Optimistic concurrency control"
   ]
  },
  {
   "cell_type": "code",
   "execution_count": 18,
   "metadata": {},
   "outputs": [
    {
     "name": "stdout",
     "output_type": "stream",
     "text": [
      "Загальний час виконання: 959.16 секунд\n",
      "Кінцеве значення каунтера: 100000 (Очікувалось: 100000)\n"
     ]
    }
   ],
   "source": [
    "def optimistic_concurrency_control(iter_count):\n",
    "    conn = psycopg2.connect(**db_config)\n",
    "    cursor = conn.cursor()\n",
    "    for _ in range(iter_count):\n",
    "        while True:\n",
    "            try:\n",
    "                conn.autocommit = False\n",
    "                cursor.execute(\"SELECT counter, version FROM user_counter WHERE user_id = 4\")\n",
    "                row = cursor.fetchone()\n",
    "                if row is None:\n",
    "                    print(\"Запис з user_id = 4 не знайдено.\")\n",
    "                    break\n",
    "                counter, version = row\n",
    "                new_counter = counter + 1\n",
    "                new_version = version + 1\n",
    "                cursor.execute(\"\"\"\n",
    "                    UPDATE user_counter\n",
    "                    SET counter = %s, version = %s\n",
    "                    WHERE user_id = %s AND version = %s\n",
    "                \"\"\", (new_counter, new_version, 4, version))\n",
    "                if cursor.rowcount > 0:\n",
    "                    conn.commit()\n",
    "                    break \n",
    "                else:\n",
    "                    conn.rollback()\n",
    "            except Exception as e:\n",
    "                conn.rollback()\n",
    "                print(f\"Помилка: {e}\")\n",
    "            finally:\n",
    "                conn.autocommit = True\n",
    "    cursor.close()\n",
    "    conn.close()\n",
    "\n",
    "start_time = time.time()\n",
    "\n",
    "threads = []\n",
    "for _ in range(10):\n",
    "    thread = threading.Thread(target=optimistic_concurrency_control, args=[iter_count])\n",
    "    threads.append(thread)\n",
    "    thread.start()\n",
    "\n",
    "for thread in threads:\n",
    "    thread.join()\n",
    "\n",
    "total_time = time.time() - start_time\n",
    "print(f\"Загальний час виконання: {total_time:.2f} секунд\")\n",
    "\n",
    "conn = psycopg2.connect(**db_config)\n",
    "cursor = conn.cursor()\n",
    "cursor.execute(\"SELECT counter FROM user_counter WHERE user_id = 4\")\n",
    "final_counter = cursor.fetchone()[0]\n",
    "print(f\"Кінцеве значення каунтера: {final_counter} (Очікувалось: {thread_count * iter_count})\")\n",
    "cursor.close()\n",
    "conn.close()"
   ]
  }
 ],
 "metadata": {
  "kernelspec": {
   "display_name": ".venv",
   "language": "python",
   "name": "python3"
  },
  "language_info": {
   "codemirror_mode": {
    "name": "ipython",
    "version": 3
   },
   "file_extension": ".py",
   "mimetype": "text/x-python",
   "name": "python",
   "nbconvert_exporter": "python",
   "pygments_lexer": "ipython3",
   "version": "3.12.3"
  }
 },
 "nbformat": 4,
 "nbformat_minor": 2
}
