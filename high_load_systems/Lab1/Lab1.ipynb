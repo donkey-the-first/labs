{
 "cells": [
  {
   "cell_type": "code",
   "execution_count": 63,
   "metadata": {},
   "outputs": [],
   "source": [
    "import hazelcast\n",
    "from hazelcast.config import Config\n",
    "import concurrent.futures\n",
    "import time\n",
    "import os"
   ]
  },
  {
   "cell_type": "markdown",
   "metadata": {},
   "source": [
    "Підключення до кластеру"
   ]
  },
  {
   "cell_type": "code",
   "execution_count": 64,
   "metadata": {},
   "outputs": [
    {
     "name": "stdout",
     "output_type": "stream",
     "text": [
      "connection...\n",
      "Members {size:1, ver:1} [\n",
      "\tMember [172.25.0.3]:5701 - aff08c14-86f7-4c84-ab26-34bd10c229a7 this\n",
      "]\n",
      "\u0000Members {size:2, ver:2} [\n",
      "\tMember [172.25.0.3]:5701 - aff08c14-86f7-4c84-ab26-34bd10c229a7 this\n",
      "\tMember [172.25.0.2]:5701 - 212c805f-8b21-4655-8d00-0eded124233e\n",
      "]\n",
      "\u0000Members {size:3, ver:3} [\n",
      "\tMember [172.25.0.3]:5701 - aff08c14-86f7-4c84-ab26-34bd10c229a7 this\n",
      "\tMember [172.25.0.2]:5701 - 212c805f-8b21-4655-8d00-0eded124233e\n",
      "\tMember [172.25.0.4]:5701 - e4ea258f-3a95-46ba-983a-a32e252ccddc\n",
      "]\n",
      "\u0000connected :-)\n"
     ]
    }
   ],
   "source": [
    "print(\"connection...\")\n",
    "config = Config()\n",
    "config.cluster_members = ['localhost:5701', 'localhost:5702', 'localhost:5703']  \n",
    "client = hazelcast.HazelcastClient(config)\n",
    "os.environ['SUDO_ASKPASS'] = '/home/user/sudo_askpass.sh'\n",
    "os.system('sudo -A docker logs hz-1 | grep -Pzo \\'Members {.*} \\\\[\\\\n(.*Member.*\\\\n)+\\\\]\\\\n\\'')\n",
    "print(\"connected :-)\")"
   ]
  },
  {
   "cell_type": "markdown",
   "metadata": {},
   "source": [
    "### 1. Каунтер без блокувань"
   ]
  },
  {
   "cell_type": "code",
   "execution_count": 65,
   "metadata": {},
   "outputs": [
    {
     "name": "stdout",
     "output_type": "stream",
     "text": [
      "Start value: 0\n",
      "--==  started  ==--\n",
      "--==  ended  ==--\n",
      "End value: 1520 (expected 10000) Not equal\n",
      "Done in: 20.355 sec (0.339) min\n"
     ]
    }
   ],
   "source": [
    "def inc_map_noblock(map, key, num_iterations):\n",
    "    for _ in range(num_iterations):\n",
    "        map.put(key, map.get(key) + 1)\n",
    "\n",
    "map_name = 'map-1'\n",
    "distributed_map = client.get_map(map_name).blocking()\n",
    "key = 'counter'\n",
    "distributed_map.put(key, 0)\n",
    "num_threads = 10\n",
    "num_iterations_per_thread = 1000\n",
    "print(f\"Start value: {distributed_map.get(key)}\")\n",
    "\n",
    "print(\"--==  started  ==--\")\n",
    "start_time = time.time()\n",
    "\n",
    "with concurrent.futures.ThreadPoolExecutor(max_workers=num_threads) as executor:\n",
    "    futures = [\n",
    "        executor.submit(inc_map_noblock, distributed_map, key, num_iterations_per_thread)\n",
    "        for _ in range(num_threads)\n",
    "    ]\n",
    "concurrent.futures.wait(futures)\n",
    "\n",
    "end_time = time.time()\n",
    "print(\"--==  ended  ==--\")\n",
    "\n",
    "final_value = distributed_map.get(key)\n",
    "print(f\"End value: {final_value} (expected {num_threads * num_iterations_per_thread}) {\"Equal\" if final_value==num_threads * num_iterations_per_thread else \"Not equal\"}\")\n",
    "print(f\"Done in: {round(end_time - start_time, 3)} sec ({round((end_time - start_time)/60, 3)}) min\")"
   ]
  },
  {
   "cell_type": "markdown",
   "metadata": {},
   "source": [
    "### 2. Каунтер з песимістичним блокуванням"
   ]
  },
  {
   "cell_type": "code",
   "execution_count": 66,
   "metadata": {},
   "outputs": [
    {
     "name": "stdout",
     "output_type": "stream",
     "text": [
      "Start value: 0\n",
      "--==  started  ==--\n",
      "--==  ended  ==--\n",
      "End value: 10000 (expected 10000) Equal\n",
      "Done in: 392.404 sec (6.54) min\n"
     ]
    }
   ],
   "source": [
    "def inc_map_pessimistic(map,key, num_iterations):\n",
    "    for _ in range(num_iterations):\n",
    "        map.lock(key)\n",
    "        try:\n",
    "            map.put(key, map.get(key) + 1)\n",
    "        finally:\n",
    "            map.unlock(key)\n",
    "\n",
    "map_name = 'map-1'\n",
    "distributed_map = client.get_map(map_name).blocking()\n",
    "key = 'counter'\n",
    "distributed_map.put(key, 0)\n",
    "num_threads = 10\n",
    "num_iterations_per_thread = 1000\n",
    "print(f\"Start value: {distributed_map.get(key)}\")\n",
    "\n",
    "print(\"--==  started  ==--\")\n",
    "start_time = time.time()\n",
    "\n",
    "with concurrent.futures.ThreadPoolExecutor(max_workers=num_threads) as executor:\n",
    "    futures = [\n",
    "        executor.submit(inc_map_pessimistic, distributed_map, key, num_iterations_per_thread)\n",
    "        for _ in range(num_threads)\n",
    "    ]\n",
    "concurrent.futures.wait(futures)\n",
    "\n",
    "end_time = time.time()\n",
    "print(\"--==  ended  ==--\")\n",
    "\n",
    "final_value = distributed_map.get(key)\n",
    "print(f\"End value: {final_value} (expected {num_threads * num_iterations_per_thread}) {\"Equal\" if final_value==num_threads * num_iterations_per_thread else \"Not equal\"}\")\n",
    "print(f\"Done in: {round(end_time - start_time, 3)} sec ({round((end_time - start_time)/60, 3)}) min\")"
   ]
  },
  {
   "cell_type": "markdown",
   "metadata": {},
   "source": [
    "### 3. Каунтер з оптимістичним блокуванням"
   ]
  },
  {
   "cell_type": "code",
   "execution_count": 67,
   "metadata": {},
   "outputs": [
    {
     "name": "stdout",
     "output_type": "stream",
     "text": [
      "Start value: 0\n",
      "--==  started  ==--\n",
      "--==  ended  ==--\n",
      "End value: 10000 (expected 10000) Equal\n",
      "Done in: 78.694 sec (1.312) min\n"
     ]
    }
   ],
   "source": [
    "def inc_map_optimistic(distributed_map, key, num_iterations):\n",
    "    for _ in range(num_iterations):\n",
    "        while True:\n",
    "            old_value = distributed_map.get(key)\n",
    "            new_value = old_value + 1\n",
    "            if (distributed_map.replace_if_same(key, old_value ,new_value)):\n",
    "                break\n",
    "\n",
    "map_name = 'map-1'\n",
    "distributed_map = client.get_map(map_name).blocking()\n",
    "key = 'counter'\n",
    "distributed_map.put(key, 0)\n",
    "num_threads = 10\n",
    "num_iterations_per_thread = 1000\n",
    "print(f\"Start value: {distributed_map.get(key)}\")\n",
    "\n",
    "print(\"--==  started  ==--\")\n",
    "start_time = time.time()\n",
    "\n",
    "with concurrent.futures.ThreadPoolExecutor(max_workers=num_threads) as executor:\n",
    "    futures = [\n",
    "        executor.submit(inc_map_optimistic, distributed_map, key, num_iterations_per_thread)\n",
    "        for _ in range(num_threads)\n",
    "    ]\n",
    "concurrent.futures.wait(futures)\n",
    "\n",
    "end_time = time.time()\n",
    "print(\"--==  ended  ==--\")\n",
    "\n",
    "final_value = distributed_map.get(key)\n",
    "print(f\"End value: {final_value} (expected {num_threads * num_iterations_per_thread}) {\"Equal\" if final_value==num_threads * num_iterations_per_thread else \"Not equal\"}\")\n",
    "print(f\"Done in: {round(end_time - start_time, 3)} sec ({round((end_time - start_time)/60, 3)}) min\")"
   ]
  },
  {
   "cell_type": "markdown",
   "metadata": {},
   "source": [
    "Створення кластеру з CP Sysbsystem"
   ]
  },
  {
   "cell_type": "code",
   "execution_count": 68,
   "metadata": {},
   "outputs": [
    {
     "name": "stdout",
     "output_type": "stream",
     "text": [
      "connection...\n",
      "CP Group Members {groupId: METADATA(0), size:3, term:1, logIndex:0} [\n",
      "\tCPMember{uuid=b07b3a82-6726-4ae2-840d-919eee98df49, address=[172.26.0.4]:5701} - FOLLOWER this\n",
      "\tCPMember{uuid=e1756991-ab19-4f63-ad51-d09bd44d7a34, address=[172.26.0.3]:5701}\n",
      "\tCPMember{uuid=3828e161-f5bb-43e1-9b8c-84d60fc94efc, address=[172.26.0.2]:5701}\n",
      "]\n",
      "\u0000CP Group Members {groupId: METADATA(0), size:3, term:1, logIndex:0} [\n",
      "\tCPMember{uuid=b07b3a82-6726-4ae2-840d-919eee98df49, address=[172.26.0.4]:5701} - FOLLOWER this\n",
      "\tCPMember{uuid=e1756991-ab19-4f63-ad51-d09bd44d7a34, address=[172.26.0.3]:5701}\n",
      "\tCPMember{uuid=3828e161-f5bb-43e1-9b8c-84d60fc94efc, address=[172.26.0.2]:5701} - LEADER\n",
      "]\n",
      "\u0000CP Group Members {groupId: default(5933), size:3, term:1, logIndex:0} [\n",
      "\tCPMember{uuid=b07b3a82-6726-4ae2-840d-919eee98df49, address=[172.26.0.4]:5701} - FOLLOWER this\n",
      "\tCPMember{uuid=3828e161-f5bb-43e1-9b8c-84d60fc94efc, address=[172.26.0.2]:5701}\n",
      "\tCPMember{uuid=e1756991-ab19-4f63-ad51-d09bd44d7a34, address=[172.26.0.3]:5701}\n",
      "]\n",
      "\u0000CPconnected :-)\n",
      " Group Members {groupId: default(5933), size:3, term:1, logIndex:0} [\n",
      "\tCPMember{uuid=b07b3a82-6726-4ae2-840d-919eee98df49, address=[172.26.0.4]:5701} - FOLLOWER this\n",
      "\tCPMember{uuid=3828e161-f5bb-43e1-9b8c-84d60fc94efc, address=[172.26.0.2]:5701} - LEADER\n",
      "\tCPMember{uuid=e1756991-ab19-4f63-ad51-d09bd44d7a34, address=[172.26.0.3]:5701}\n",
      "]\n",
      "\u0000CP Group Members {groupId: default(5933), size:3, term:2, logIndex:0} [\n",
      "\tCPMember{uuid=b07b3a82-6726-4ae2-840d-919eee98df49, address=[172.26.0.4]:5701} - FOLLOWER this\n",
      "\tCPMember{uuid=3828e161-f5bb-43e1-9b8c-84d60fc94efc, address=[172.26.0.2]:5701}\n",
      "\tCPMember{uuid=e1756991-ab19-4f63-ad51-d09bd44d7a34, address=[172.26.0.3]:5701}\n",
      "]\n",
      "\u0000CP Group Members {groupId: default(5933), size:3, term:2, logIndex:0} [\n",
      "\tCPMember{uuid=b07b3a82-6726-4ae2-840d-919eee98df49, address=[172.26.0.4]:5701} - FOLLOWER this\n",
      "\tCPMember{uuid=3828e161-f5bb-43e1-9b8c-84d60fc94efc, address=[172.26.0.2]:5701}\n",
      "\tCPMember{uuid=e1756991-ab19-4f63-ad51-d09bd44d7a34, address=[172.26.0.3]:5701} - LEADER\n",
      "]\n",
      "\u0000"
     ]
    }
   ],
   "source": [
    "client.shutdown()\n",
    "print(\"connection...\")\n",
    "config2 = Config()\n",
    "config2.cluster_members = ['localhost:5704', 'localhost:5705', 'localhost:5706']  \n",
    "config2.cluster_name = \"test\"\n",
    "client2 = hazelcast.HazelcastClient(config2)\n",
    "os.environ['SUDO_ASKPASS'] = '/home/user/sudo_askpass.sh'\n",
    "os.system('sudo -A docker logs hz-cp-1 | grep -Pzo \\'CP Group Members {.*} \\\\[\\\\n(.*CPMember{.*\\\\n)+\\\\]\\\\n\\'')\n",
    "print(\"connected :-)\")"
   ]
  },
  {
   "cell_type": "markdown",
   "metadata": {},
   "source": [
    "### 4. Каунтер з використанням IAtomicLong"
   ]
  },
  {
   "cell_type": "code",
   "execution_count": 69,
   "metadata": {},
   "outputs": [
    {
     "name": "stdout",
     "output_type": "stream",
     "text": [
      "Start value: 0\n",
      "--==  started  ==--\n",
      "--==  ended  ==--\n",
      "End value: 10000 (expected 10000) Equal\n",
      "Done in: 9.843 sec (0.164 min)\n"
     ]
    }
   ],
   "source": [
    "def inc_atomic_long(counter, num_iterations):\n",
    "    for _ in range(num_iterations):\n",
    "        counter.increment_and_get()\n",
    "\n",
    "counter_name = 'counter'\n",
    "counter = client2.cp_subsystem.get_atomic_long(counter_name).blocking()\n",
    "    \n",
    "num_threads = 10\n",
    "num_iterations_per_thread = 1000\n",
    "total_expected = num_threads * num_iterations_per_thread\n",
    "    \n",
    "counter.set(0)\n",
    "print(f\"Start value: {counter.get()}\")\n",
    "    \n",
    "print(\"--==  started  ==--\")\n",
    "start_time = time.time()\n",
    "    \n",
    "with concurrent.futures.ThreadPoolExecutor(max_workers=num_threads) as executor:\n",
    "    futures = [\n",
    "        executor.submit(inc_atomic_long, counter, num_iterations_per_thread)\n",
    "        for _ in range(num_threads)\n",
    "    ]\n",
    "    concurrent.futures.wait(futures)\n",
    "    \n",
    "end_time = time.time()\n",
    "print(\"--==  ended  ==--\")\n",
    "    \n",
    "final_value = counter.get()\n",
    "print(f\"End value: {final_value} (expected {total_expected}) {'Equal' if final_value == total_expected else 'Not equal'}\")\n",
    "print(f\"Done in: {round(end_time - start_time, 3)} sec ({round((end_time - start_time)/60, 3)} min)\")\n",
    " \n",
    "client.shutdown()"
   ]
  }
 ],
 "metadata": {
  "kernelspec": {
   "display_name": ".venv",
   "language": "python",
   "name": "python3"
  },
  "language_info": {
   "codemirror_mode": {
    "name": "ipython",
    "version": 3
   },
   "file_extension": ".py",
   "mimetype": "text/x-python",
   "name": "python",
   "nbconvert_exporter": "python",
   "pygments_lexer": "ipython3",
   "version": "3.12.3"
  }
 },
 "nbformat": 4,
 "nbformat_minor": 2
}
