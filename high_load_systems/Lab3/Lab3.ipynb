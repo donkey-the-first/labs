{
 "cells": [
  {
   "cell_type": "code",
   "execution_count": 60,
   "metadata": {},
   "outputs": [],
   "source": [
    "from neo4j import GraphDatabase\n",
    "from neo4j.exceptions import TransientError\n",
    "import time\n",
    "import threading\n",
    "import os\n",
    "from dotenv import load_dotenv\n",
    "\n",
    "load_dotenv()\n",
    "uri = \"bolt://localhost:7687\"\n",
    "username = os.getenv(\"USER\")\n",
    "password = os.getenv(\"PASSWORD\")\n",
    "driver = GraphDatabase.driver(uri, auth=(username, password))"
   ]
  },
  {
   "cell_type": "code",
   "execution_count": 61,
   "metadata": {},
   "outputs": [],
   "source": [
    "# Функції для роботи з базою даних\n",
    "def create_customer(tx, name, email):\n",
    "    tx.run(\"\"\"\n",
    "        MERGE (c:Customer {email: $email})\n",
    "        ON CREATE SET c.name = $name\n",
    "        \"\"\", name=name, email=email)\n",
    "\n",
    "def create_item(tx, name, price, description):\n",
    "    tx.run(\"\"\"\n",
    "        MERGE (i:Item {name: $name})\n",
    "        ON CREATE SET i.price = $price, i.description = $description\n",
    "        \"\"\", name=name, price=price, description=description)\n",
    "\n",
    "def create_order(tx, order_id, order_date, status):\n",
    "    tx.run(\"\"\"\n",
    "        MERGE (o:Order {orderId: $order_id})\n",
    "        ON CREATE SET o.orderDate = $order_date, o.status = $status\n",
    "        \"\"\", order_id=order_id, order_date=order_date, status=status)\n",
    "\n",
    "def link_customer_order(tx, email, order_id):\n",
    "    tx.run(\"\"\"\n",
    "        MATCH (c:Customer {email: $email})\n",
    "        MATCH (o:Order {orderId: $order_id})\n",
    "        MERGE (c)-[r:PLACED]->(o)\n",
    "        \"\"\", email=email, order_id=order_id)\n",
    "\n",
    "def link_order_item(tx, order_id, item_name):\n",
    "    tx.run(\"\"\"\n",
    "        MATCH (o:Order {orderId: $order_id})\n",
    "        MATCH (i:Item {name: $item_name})\n",
    "        MERGE (o)-[r:CONTAINS]->(i)\n",
    "        \"\"\", order_id=order_id, item_name=item_name)\n",
    "\n",
    "def create_viewed_relationship(tx, email, item_name):\n",
    "    tx.run(\"\"\"\n",
    "        MATCH (c:Customer {email: $email})\n",
    "        MATCH (i:Item {name: $item_name})\n",
    "        MERGE (c)-[r:VIEWED]->(i)\n",
    "        ON CREATE SET r.viewDate = datetime()\n",
    "        \"\"\", email=email, item_name=item_name)"
   ]
  },
  {
   "cell_type": "code",
   "execution_count": 62,
   "metadata": {},
   "outputs": [],
   "source": [
    "# Основний код\n",
    "with driver.session() as session:\n",
    "    # Створення клієнта\n",
    "    session.execute_write(create_customer, \"Іван Петренко\", \"ivan@example.com\")\n",
    "\n",
    "    # Створення товарів\n",
    "    session.execute_write(create_item, \"Ноутбук\", 1500, \"Ноутбук з 16ГБ RAM\")\n",
    "    session.execute_write(create_item, \"Смартфон\", 800, \"Смартфон з 128ГБ пам'яті\")\n",
    "    session.execute_write(create_item, \"Планшет\", 600, \"Планшет з 64ГБ пам'яті\")\n",
    "\n",
    "    # Створення замовлення\n",
    "    session.execute_write(create_order, \"ORD123\", \"2023-10-01\", \"Completed\")\n",
    "\n",
    "    # Зв'язок клієнта з замовленням\n",
    "    session.execute_write(link_customer_order, \"ivan@example.com\", \"ORD123\")\n",
    "\n",
    "    # Додавання товарів до замовлення\n",
    "    session.execute_write(link_order_item, \"ORD123\", \"Ноутбук\")\n",
    "    session.execute_write(link_order_item, \"ORD123\", \"Смартфон\")\n",
    "\n",
    "    # Клієнт переглянув товар без покупки\n",
    "    session.execute_write(create_viewed_relationship, \"ivan@example.com\", \"Планшет\")\n"
   ]
  },
  {
   "cell_type": "code",
   "execution_count": 63,
   "metadata": {},
   "outputs": [
    {
     "name": "stdout",
     "output_type": "stream",
     "text": [
      "1. Знайти Items які входять в конкретний Order\n",
      "[{'itemName': 'Ноутбук', 'price': 1500, 'description': 'Ноутбук з 16ГБ RAM'}, {'itemName': 'Смартфон', 'price': 800, 'description': \"Смартфон з 128ГБ пам'яті\"}]\n"
     ]
    }
   ],
   "source": [
    "print(\"1. Знайти Items які входять в конкретний Order\")\n",
    "\n",
    "def get_items_in_order(tx, order_id):\n",
    "    result = tx.run(\"\"\"\n",
    "        MATCH (o:Order {orderId: $orderId})-[:CONTAINS]->(i:Item)\n",
    "        RETURN i.name AS itemName, i.price AS price, i.description AS description\n",
    "        \"\"\", orderId=order_id)\n",
    "    return result.data()\n",
    "\n",
    "with driver.session() as session:\n",
    "    items = session.execute_read(get_items_in_order, \"ORD123\")\n",
    "    print(items)"
   ]
  },
  {
   "cell_type": "code",
   "execution_count": 64,
   "metadata": {},
   "outputs": [
    {
     "name": "stdout",
     "output_type": "stream",
     "text": [
      "2. Підрахувати вартість конкретного Order\n",
      "Total cost of order: 2300\n"
     ]
    }
   ],
   "source": [
    "print(\"2. Підрахувати вартість конкретного Order\")\n",
    "\n",
    "def calculate_order_total(tx, order_id):\n",
    "    result = tx.run(\"\"\"\n",
    "        MATCH (o:Order {orderId: $orderId})-[:CONTAINS]->(i:Item)\n",
    "        RETURN SUM(i.price) AS totalCost\n",
    "        \"\"\", orderId=order_id)\n",
    "    return result.single()[\"totalCost\"]\n",
    "\n",
    "with driver.session() as session:\n",
    "    total_cost = session.execute_read(calculate_order_total, \"ORD123\")\n",
    "    print(f\"Total cost of order: {total_cost}\")"
   ]
  },
  {
   "cell_type": "code",
   "execution_count": 65,
   "metadata": {},
   "outputs": [
    {
     "name": "stdout",
     "output_type": "stream",
     "text": [
      "3. Знайти всі Orders конкретного Customer\n",
      "[{'orderId': 'ORD123', 'orderDate': '2023-10-01', 'status': 'Completed'}]\n"
     ]
    }
   ],
   "source": [
    "print(\"3. Знайти всі Orders конкретного Customer\")\n",
    "\n",
    "def get_customer_orders(tx, email):\n",
    "    result = tx.run(\"\"\"\n",
    "        MATCH (c:Customer {email: $email})-[:PLACED]->(o:Order)\n",
    "        RETURN o.orderId AS orderId, o.orderDate AS orderDate, o.status AS status\n",
    "        \"\"\", email=email)\n",
    "    return result.data()\n",
    "\n",
    "with driver.session() as session:\n",
    "    orders = session.execute_read(get_customer_orders, \"ivan@example.com\")\n",
    "    print(orders)"
   ]
  },
  {
   "cell_type": "code",
   "execution_count": 66,
   "metadata": {},
   "outputs": [
    {
     "name": "stdout",
     "output_type": "stream",
     "text": [
      "4. Знайти всі Items куплені конкретним Customer (через Order)\n",
      "[{'itemName': 'Смартфон', 'price': 800, 'description': \"Смартфон з 128ГБ пам'яті\"}, {'itemName': 'Ноутбук', 'price': 1500, 'description': 'Ноутбук з 16ГБ RAM'}]\n"
     ]
    }
   ],
   "source": [
    "print(\"4. Знайти всі Items куплені конкретним Customer (через Order)\")\n",
    "\n",
    "def get_items_purchased_by_customer(tx, email):\n",
    "    result = tx.run(\"\"\"\n",
    "        MATCH (c:Customer {email: $email})-[:PLACED]->(:Order)-[:CONTAINS]->(i:Item)\n",
    "        RETURN DISTINCT i.name AS itemName, i.price AS price, i.description AS description\n",
    "        \"\"\", email=email)\n",
    "    return result.data()\n",
    "\n",
    "with driver.session() as session:\n",
    "    items = session.execute_read(get_items_purchased_by_customer, \"ivan@example.com\")\n",
    "    print(items)"
   ]
  },
  {
   "cell_type": "code",
   "execution_count": 67,
   "metadata": {},
   "outputs": [
    {
     "name": "stdout",
     "output_type": "stream",
     "text": [
      "5. Знайти кількість Items куплені конкретним Customer (через Order)\n",
      "Items purchased by customer: 2\n"
     ]
    }
   ],
   "source": [
    "print(\"5. Знайти кількість Items куплені конкретним Customer (через Order)\")\n",
    "\n",
    "def count_items_purchased_by_customer(tx, email):\n",
    "    result = tx.run(\"\"\"\n",
    "        MATCH (c:Customer {email: $email})-[:PLACED]->(:Order)-[:CONTAINS]->(i:Item)\n",
    "        RETURN COUNT(i) AS itemCount\n",
    "        \"\"\", email=email)\n",
    "    return result.single()[\"itemCount\"]\n",
    "\n",
    "with driver.session() as session:\n",
    "    item_count = session.execute_read(count_items_purchased_by_customer, \"ivan@example.com\")\n",
    "    print(f\"Items purchased by customer: {item_count}\")"
   ]
  },
  {
   "cell_type": "code",
   "execution_count": 68,
   "metadata": {},
   "outputs": [
    {
     "name": "stdout",
     "output_type": "stream",
     "text": [
      "6. Знайти для Customer на яку суму він придбав товарів (через Order)\n",
      "Total spent by customer: 2300\n"
     ]
    }
   ],
   "source": [
    "print(\"6. Знайти для Customer на яку суму він придбав товарів (через Order)\")\n",
    "\n",
    "def calculate_total_spent_by_customer(tx, email):\n",
    "    result = tx.run(\"\"\"\n",
    "        MATCH (c:Customer {email: $email})-[:PLACED]->(:Order)-[:CONTAINS]->(i:Item)\n",
    "        RETURN SUM(i.price) AS totalSpent\n",
    "        \"\"\", email=email)\n",
    "    return result.single()[\"totalSpent\"]\n",
    "\n",
    "with driver.session() as session:\n",
    "    total_spent = session.execute_read(calculate_total_spent_by_customer, \"ivan@example.com\")\n",
    "    print(f\"Total spent by customer: {total_spent}\")"
   ]
  },
  {
   "cell_type": "code",
   "execution_count": 69,
   "metadata": {},
   "outputs": [
    {
     "name": "stdout",
     "output_type": "stream",
     "text": [
      "7. Знайті скільки разів кожен товар був придбаний, відсортувати за цим значенням\n"
     ]
    },
    {
     "name": "stdout",
     "output_type": "stream",
     "text": [
      "[{'itemName': 'Ноутбук', 'purchaseCount': 1}, {'itemName': 'Смартфон', 'purchaseCount': 1}]\n"
     ]
    }
   ],
   "source": [
    "print(\"7. Знайті скільки разів кожен товар був придбаний, відсортувати за цим значенням\")\n",
    "\n",
    "def get_item_purchase_counts(tx):\n",
    "    result = tx.run(\"\"\"\n",
    "        MATCH (:Order)-[:CONTAINS]->(i:Item)\n",
    "        RETURN i.name AS itemName, COUNT(*) AS purchaseCount\n",
    "        ORDER BY purchaseCount DESC\n",
    "        \"\"\")\n",
    "    return result.data()\n",
    "\n",
    "with driver.session() as session:\n",
    "    item_counts = session.execute_read(get_item_purchase_counts)\n",
    "    print(item_counts)"
   ]
  },
  {
   "cell_type": "code",
   "execution_count": 70,
   "metadata": {},
   "outputs": [
    {
     "name": "stdout",
     "output_type": "stream",
     "text": [
      "8. Знайти всі Items переглянуті (view) конкретним Customer\n",
      "[{'itemName': 'Планшет', 'price': 600, 'description': \"Планшет з 64ГБ пам'яті\"}]\n"
     ]
    }
   ],
   "source": [
    "print(\"8. Знайти всі Items переглянуті (view) конкретним Customer\")\n",
    "\n",
    "def get_items_viewed_by_customer(tx, email):\n",
    "    result = tx.run(\"\"\"\n",
    "        MATCH (c:Customer {email: $email})-[:VIEWED]->(i:Item)\n",
    "        RETURN i.name AS itemName, i.price AS price, i.description AS description\n",
    "        \"\"\", email=email)\n",
    "    return result.data()\n",
    "\n",
    "with driver.session() as session:\n",
    "    viewed_items = session.execute_read(get_items_viewed_by_customer, \"ivan@example.com\")\n",
    "    print(viewed_items)"
   ]
  },
  {
   "cell_type": "code",
   "execution_count": 71,
   "metadata": {},
   "outputs": [
    {
     "name": "stdout",
     "output_type": "stream",
     "text": [
      "9. Знайти інші Items що купувались разом з конкретним Item (тобто всі Items що входять до Order-s разом з даними Item)\n",
      "[{'itemName': 'Смартфон', 'price': 800, 'description': \"Смартфон з 128ГБ пам'яті\"}]\n"
     ]
    }
   ],
   "source": [
    "print(\"9. Знайти інші Items що купувались разом з конкретним Item (тобто всі Items що входять до Order-s разом з даними Item)\")\n",
    "\n",
    "def get_items_purchased_with_item(tx, item_name):\n",
    "    result = tx.run(\"\"\"\n",
    "        MATCH (i:Item {name: $itemName})<-[:CONTAINS]-(o:Order)-[:CONTAINS]->(otherItem:Item)\n",
    "        WHERE otherItem <> i\n",
    "        RETURN DISTINCT otherItem.name AS itemName, otherItem.price AS price, otherItem.description AS description\n",
    "        \"\"\", itemName=item_name)\n",
    "    return result.data()\n",
    "\n",
    "with driver.session() as session:\n",
    "    items = session.execute_read(get_items_purchased_with_item, \"Ноутбук\")\n",
    "    print(items)"
   ]
  },
  {
   "cell_type": "code",
   "execution_count": 72,
   "metadata": {},
   "outputs": [
    {
     "name": "stdout",
     "output_type": "stream",
     "text": [
      "10. Знайти Customers які купили даний конкретний Item\n",
      "[{'customerName': 'Іван Петренко', 'email': 'ivan@example.com'}]\n"
     ]
    }
   ],
   "source": [
    "print(\"10. Знайти Customers які купили даний конкретний Item\")\n",
    "\n",
    "def get_customers_who_purchased_item(tx, item_name):\n",
    "    result = tx.run(\"\"\"\n",
    "        MATCH (c:Customer)-[:PLACED]->(:Order)-[:CONTAINS]->(i:Item {name: $itemName})\n",
    "        RETURN DISTINCT c.name AS customerName, c.email AS email\n",
    "        \"\"\", itemName=item_name)\n",
    "    return result.data()\n",
    "\n",
    "with driver.session() as session:\n",
    "    customers = session.execute_read(get_customers_who_purchased_item, \"Ноутбук\")\n",
    "    print(customers)"
   ]
  },
  {
   "cell_type": "code",
   "execution_count": 73,
   "metadata": {},
   "outputs": [
    {
     "name": "stdout",
     "output_type": "stream",
     "text": [
      "11. Знайти для певного Customer(а) товари, які він переглядав, але не купив\n",
      "[{'itemName': 'Планшет', 'price': 600, 'description': \"Планшет з 64ГБ пам'яті\"}]\n"
     ]
    }
   ],
   "source": [
    "print(\"11. Знайти для певного Customer(а) товари, які він переглядав, але не купив\")\n",
    "\n",
    "def get_viewed_but_not_purchased_items(tx, email):\n",
    "    result = tx.run(\"\"\"\n",
    "        MATCH (c:Customer {email: $email})-[:VIEWED]->(i:Item)\n",
    "        WHERE NOT (c)-[:PLACED]->(:Order)-[:CONTAINS]->(i)\n",
    "        RETURN DISTINCT i.name AS itemName, i.price AS price, i.description AS description\n",
    "        \"\"\", email=email)\n",
    "    return result.data()\n",
    "\n",
    "with driver.session() as session:\n",
    "    items = session.execute_read(get_viewed_but_not_purchased_items, \"ivan@example.com\")\n",
    "    print(items)"
   ]
  },
  {
   "cell_type": "code",
   "execution_count": 74,
   "metadata": {},
   "outputs": [],
   "source": [
    "#Функція інкременту з повторними спробами\n",
    "def increment_likes(tx, item_name):\n",
    "    tx.run(\"\"\"\n",
    "        MATCH (i:Item {name: $item_name})\n",
    "        SET i.likes = i.likes + 1\n",
    "        \"\"\", item_name=item_name)\n",
    "\n",
    "def safe_increment_likes(session, item_name, increments):\n",
    "    for _ in range(increments):\n",
    "        success = False\n",
    "        retries = 0\n",
    "        max_retries = 5\n",
    "        while not success and retries < max_retries:\n",
    "            try:\n",
    "                session.execute_write(increment_likes, item_name)\n",
    "                success = True\n",
    "            except TransientError as e:\n",
    "                retries += 1\n",
    "        if not success:\n",
    "            print(f\"Failed to increment after {max_retries} retries.\")\n",
    "\n",
    "def add_likes_field(tx, item_name):\n",
    "    tx.run(\"\"\"\n",
    "        MATCH (i:Item {name: $item_name})\n",
    "        SET i.likes = 0\n",
    "        \"\"\", item_name=item_name)\n",
    "\n",
    "def thread_function(item_name, increments):\n",
    "    with driver.session() as session:\n",
    "        safe_increment_likes(session, item_name, increments)"
   ]
  },
  {
   "cell_type": "code",
   "execution_count": 75,
   "metadata": {},
   "outputs": [
    {
     "name": "stdout",
     "output_type": "stream",
     "text": [
      "Total likes for 'Ноутбук': 213862\n",
      "Total execution time: 1321.399 seconds\n"
     ]
    }
   ],
   "source": [
    "item_name = \"Ноутбук\"\n",
    "increments_per_thread = 10000\n",
    "num_threads = 10\n",
    "\n",
    "# Додавання поля likes до Item\n",
    "with driver.session() as session:\n",
    "    session.execute_write(add_likes_field, item_name)\n",
    "\n",
    "# Створення та запуск потоків\n",
    "threads = []\n",
    "start_time = time.time()\n",
    "for _ in range(num_threads):\n",
    "    thread = threading.Thread(target=thread_function, args=(item_name, increments_per_thread))\n",
    "    threads.append(thread)\n",
    "    thread.start()\n",
    "\n",
    "# Очікування завершення всіх потоків\n",
    "for thread in threads:\n",
    "    thread.join()\n",
    "end_time = time.time()\n",
    "\n",
    "# Отримання фінального значення likes\n",
    "def get_likes(tx, item_name):\n",
    "    result = tx.run(\"\"\"\n",
    "        MATCH (i:Item {name: $item_name})\n",
    "        RETURN i.likes AS likes\n",
    "        \"\"\", item_name=item_name)\n",
    "    return result.single()[\"likes\"]\n",
    "\n",
    "with driver.session() as session:\n",
    "    total_likes = session.execute_read(get_likes, item_name)\n",
    "    print(f\"Total likes for '{item_name}': {total_likes}\")\n",
    "\n",
    "print(f\"Total execution time: {end_time - start_time:.3f} seconds\")"
   ]
  }
 ],
 "metadata": {
  "kernelspec": {
   "display_name": ".venv",
   "language": "python",
   "name": "python3"
  },
  "language_info": {
   "codemirror_mode": {
    "name": "ipython",
    "version": 3
   },
   "file_extension": ".py",
   "mimetype": "text/x-python",
   "name": "python",
   "nbconvert_exporter": "python",
   "pygments_lexer": "ipython3",
   "version": "3.12.3"
  }
 },
 "nbformat": 4,
 "nbformat_minor": 2
}
